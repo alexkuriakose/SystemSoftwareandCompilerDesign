{
  "nbformat": 4,
  "nbformat_minor": 0,
  "metadata": {
    "colab": {
      "name": "Exercise 4.ipynb",
      "provenance": [],
      "collapsed_sections": [],
      "mount_file_id": "1ljRhFvyOk5rlaXmhg_G6WVK1yIPdcbN3",
      "authorship_tag": "ABX9TyOqJz2m9YrKE4MvafIl4KyC",
      "include_colab_link": true
    },
    "kernelspec": {
      "name": "python3",
      "display_name": "Python 3"
    },
    "language_info": {
      "name": "python"
    }
  },
  "cells": [
    {
      "cell_type": "markdown",
      "metadata": {
        "id": "view-in-github",
        "colab_type": "text"
      },
      "source": [
        "<a href=\"https://colab.research.google.com/github/alexkuriakose/SystemSoftwareandCompilerDesign/blob/main/Exercise_4.ipynb\" target=\"_parent\"><img src=\"https://colab.research.google.com/assets/colab-badge.svg\" alt=\"Open In Colab\"/></a>"
      ]
    },
    {
      "cell_type": "markdown",
      "source": [
        "Exercise 4: SINGLE PASS ASSEMBLER FOR SIC"
      ],
      "metadata": {
        "id": "pskOBSzJDQ-w"
      }
    },
    {
      "cell_type": "code",
      "execution_count": null,
      "metadata": {
        "id": "9lKMjFAz5WWf"
      },
      "outputs": [],
      "source": [
        "op_table = {}\n",
        "labels = []\n",
        "commands = []\n",
        "values = []\n",
        "memory_locations = []\n",
        "op_code = []\n",
        "object_code = []"
      ]
    },
    {
      "cell_type": "markdown",
      "source": [
        "Reading content in text file \"symtab.txt\" and printing the content"
      ],
      "metadata": {
        "id": "GpDiEICHCLXe"
      }
    },
    {
      "cell_type": "code",
      "source": [
        "sym_table = {sym.split()[0]: sym.split()[1] for sym in open(\"/content/drive/MyDrive/Exercise 4/symtab.txt\").readlines()}\n",
        "print(sym_table)"
      ],
      "metadata": {
        "colab": {
          "base_uri": "https://localhost:8080/"
        },
        "id": "tObW3NU5_Ukl",
        "outputId": "e88d8c53-e177-4672-88bc-10bdeb11c4b5"
      },
      "execution_count": null,
      "outputs": [
        {
          "output_type": "stream",
          "name": "stdout",
          "text": [
            "{'ALPHA': '1006', 'BETA': '1009'}\n"
          ]
        }
      ]
    },
    {
      "cell_type": "code",
      "source": [
        "with open(\"/content/drive/MyDrive/Exercise 4/opentab.txt\") as optab:\n",
        "    optable = optab.readlines()\n",
        "    for line in optable:\n",
        "        op_table[line.split()[0]] = line.split()[1]\n"
      ],
      "metadata": {
        "id": "wZeLnLdw_r9Z"
      },
      "execution_count": null,
      "outputs": []
    },
    {
      "cell_type": "code",
      "source": [
        "with open(\"/content/drive/MyDrive/Exercise 4/input .txt\") as input_:\n",
        "    input_data = input_.readlines()\n",
        "    for line in input_data:\n",
        "        if \"START\" in line:  # Detect starting point of the program\n",
        "            start = line.split()[2]\n",
        "            memory_locations.append(\"\")\n",
        "            x = int(start, 16)\n",
        "        else:\n",
        "            if len(line.split()) == 3:\n",
        "                memory_locations.append((sym_table.get(line.split()[0])))\n",
        "            else:\n",
        "                memory_locations.append(str(hex(x)[2:]))\n",
        "            x += 3"
      ],
      "metadata": {
        "id": "FK0jTewEAIOr"
      },
      "execution_count": null,
      "outputs": []
    },
    {
      "cell_type": "code",
      "source": [
        "for line in input_data:\n",
        "        line = line.split()\n",
        "        if len(line) == 3:\n",
        "            labels.append(line[0])\n",
        "            commands.append(line[1])\n",
        "            values.append(line[2])\n",
        "        elif len(line) == 2:\n",
        "            labels.append(\"\")\n",
        "            commands.append(line[0])\n",
        "            values.append(line[1])\n",
        "        else:\n",
        "            commands.append(line[0])\n"
      ],
      "metadata": {
        "id": "azwYez-TAOak"
      },
      "execution_count": null,
      "outputs": []
    },
    {
      "cell_type": "code",
      "source": [
        "for command in commands:\n",
        "    if command == \"START\":\n",
        "        continue\n",
        "    if command in op_table:\n",
        "        x = str(op_table[command])\n",
        "        y = str(memory_locations[labels.index(values[commands.index(command)])])\n",
        "        object_code.append(f\"^{x + y}\")\n"
      ],
      "metadata": {
        "id": "D2D7p0ZIATeX"
      },
      "execution_count": null,
      "outputs": []
    },
    {
      "cell_type": "code",
      "source": [
        "ob = \"\".join(object_code)\n",
        "x = str(hex(len(object_code) * 3)[1:])\n",
        "\n",
        "if \"x\" in x:\n",
        "    x = x.replace(\"x\", \"0\")"
      ],
      "metadata": {
        "id": "QKIEHIo5AXk-"
      },
      "execution_count": null,
      "outputs": []
    },
    {
      "cell_type": "code",
      "source": [
        "with open(\"/content/drive/MyDrive/Exercise 4/result.txt\", \"w+\") as result:\n",
        "    result.write(f\"H^{labels[0]}^{memory_locations[1]}^{memory_locations[-1][2:]}\\n\")\n",
        "    result.write(f\"T^{memory_locations[1]}^{x}{ob}\\n\")\n",
        "    result.write(f\"E^00{memory_locations[1]}\\n\")"
      ],
      "metadata": {
        "id": "JfOAnMidCfIM"
      },
      "execution_count": null,
      "outputs": []
    },
    {
      "cell_type": "markdown",
      "source": [
        "Printing the content of texfile \"result.txt\""
      ],
      "metadata": {
        "id": "e2uz6Cg-C2sf"
      }
    },
    {
      "cell_type": "code",
      "source": [
        "with open(\"/content/drive/MyDrive/Exercise 4/result.txt\") as f:\n",
        "  output=f.read()\n",
        "  print(output)"
      ],
      "metadata": {
        "colab": {
          "base_uri": "https://localhost:8080/"
        },
        "id": "oS0BC0RuCkGr",
        "outputId": "1de14db5-af30-47e5-949b-282b3392f610"
      },
      "execution_count": null,
      "outputs": [
        {
          "output_type": "stream",
          "name": "stdout",
          "text": [
            "H^COPY^1000^0c\n",
            "T^1000^06^001006^231009\n",
            "E^001000\n",
            "\n"
          ]
        }
      ]
    }
  ]
}