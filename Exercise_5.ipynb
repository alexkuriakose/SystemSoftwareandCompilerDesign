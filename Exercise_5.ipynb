{
  "nbformat": 4,
  "nbformat_minor": 0,
  "metadata": {
    "colab": {
      "name": "Exercise 5.ipynb",
      "provenance": [],
      "mount_file_id": "18-eTnppkOyR9WkUZqGstO7va20wxOO-K",
      "authorship_tag": "ABX9TyN4DQOQnwjsuU3DvZlk/YUP",
      "include_colab_link": true
    },
    "kernelspec": {
      "name": "python3",
      "display_name": "Python 3"
    },
    "language_info": {
      "name": "python"
    }
  },
  "cells": [
    {
      "cell_type": "markdown",
      "metadata": {
        "id": "view-in-github",
        "colab_type": "text"
      },
      "source": [
        "<a href=\"https://colab.research.google.com/github/alexkuriakose/SystemSoftwareandCompilerDesign/blob/main/Exercise_5.ipynb\" target=\"_parent\"><img src=\"https://colab.research.google.com/assets/colab-badge.svg\" alt=\"Open In Colab\"/></a>"
      ]
    },
    {
      "cell_type": "code",
      "execution_count": null,
      "metadata": {
        "id": "QwSAJlLBOtUz"
      },
      "outputs": [],
      "source": [
        "allLines = []"
      ]
    },
    {
      "cell_type": "code",
      "source": [
        "with open(\"/content/drive/MyDrive/Colab Notebooks/input_ex5.txt\") as inputText:\n",
        "  inputLines = inputText.readlines()\n",
        "  for line in inputLines:\n",
        "    allLines.append(line.split('^'))"
      ],
      "metadata": {
        "id": "1bTHB-wyVPdr"
      },
      "execution_count": null,
      "outputs": []
    },
    {
      "cell_type": "code",
      "source": [
        "headerRecord = allLines[0]\n",
        "endRecord = allLines[len(allLines)-1]"
      ],
      "metadata": {
        "id": "KLn9dGTqVSuu"
      },
      "execution_count": null,
      "outputs": []
    },
    {
      "cell_type": "code",
      "source": [
        "programNameInput = input(\"Enter the name of the program: \")\n",
        "programName = headerRecord[1]\n",
        "print(\"Name from obj. \"+programName)"
      ],
      "metadata": {
        "colab": {
          "base_uri": "https://localhost:8080/"
        },
        "id": "Uh-2wQINVZnn",
        "outputId": "f2f3bc9b-cff0-4c5a-fe7d-f20bf47dc5cd"
      },
      "execution_count": null,
      "outputs": [
        {
          "output_type": "stream",
          "name": "stdout",
          "text": [
            "Enter the name of the program: SAMPLE\n",
            "Name from obj. SAMPLE\n"
          ]
        }
      ]
    },
    {
      "cell_type": "code",
      "source": [
        "if(programName==programNameInput):\n",
        "  for i in range(1,len(allLines)-1):\n",
        "    memoryStart = int(allLines[i][1])\n",
        "    # Joins all remaining strings after size in every text record\n",
        "    joinedString = ''.join(allLines[i][k] for k in range(3,len(allLines[i])))\n",
        "    j = 0\n",
        "    while(j+1<len(joinedString)):\n",
        "      print('00'+str(memoryStart)+' '+joinedString[j]+joinedString[j+1])\n",
        "      j+=2\n",
        "      memoryStart+=1\n",
        "else:\n",
        "  print(\"Program names don't match. Execution ended\")"
      ],
      "metadata": {
        "colab": {
          "base_uri": "https://localhost:8080/"
        },
        "id": "0Uq1tmdKVaGj",
        "outputId": "858d9320-8d45-4585-8901-24b42171bfb5"
      },
      "execution_count": null,
      "outputs": [
        {
          "output_type": "stream",
          "name": "stdout",
          "text": [
            "001000 00\n",
            "001001 10\n",
            "001002 03\n",
            "001003 07\n",
            "001004 10\n",
            "001005 09\n",
            "002000 11\n",
            "002001 11\n",
            "002002 11\n",
            "003000 10\n",
            "003001 00\n",
            "003002 11\n"
          ]
        }
      ]
    }
  ]
}