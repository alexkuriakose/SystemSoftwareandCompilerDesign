{
  "nbformat": 4,
  "nbformat_minor": 0,
  "metadata": {
    "colab": {
      "name": "Exercise 8.ipynb",
      "provenance": [],
      "authorship_tag": "ABX9TyNRkLrjf8HYtBiqCJym8j1I",
      "include_colab_link": true
    },
    "kernelspec": {
      "name": "python3",
      "display_name": "Python 3"
    },
    "language_info": {
      "name": "python"
    }
  },
  "cells": [
    {
      "cell_type": "markdown",
      "metadata": {
        "id": "view-in-github",
        "colab_type": "text"
      },
      "source": [
        "<a href=\"https://colab.research.google.com/github/alexkuriakose/SystemSoftwareandCompilerDesign/blob/main/Exercise_8.ipynb\" target=\"_parent\"><img src=\"https://colab.research.google.com/assets/colab-badge.svg\" alt=\"Open In Colab\"/></a>"
      ]
    },
    {
      "cell_type": "markdown",
      "source": [
        "Simulation of DFA"
      ],
      "metadata": {
        "id": "uU2JuUu5KJzH"
      }
    },
    {
      "cell_type": "code",
      "execution_count": null,
      "metadata": {
        "colab": {
          "base_uri": "https://localhost:8080/"
        },
        "id": "EGRx9bwaISK0",
        "outputId": "f5c377a4-5844-41bf-f2bf-c4377c5c5f4e"
      },
      "outputs": [
        {
          "name": "stdout",
          "output_type": "stream",
          "text": [
            "Enter number of states : 4\n",
            "Enter the state :a\n",
            "Enter the state :b\n",
            "Enter the state :c\n",
            "Enter the state :d\n"
          ]
        }
      ],
      "source": [
        "NoState=int(input(\"Enter number of states : \"))\n",
        "states=[input(\"Enter the state :\")for i in range(0,NoState)]"
      ]
    },
    {
      "cell_type": "code",
      "source": [
        "symbols=int(input(\"Enter number of input symbols :\"))\n",
        "sym=[input(\"Enter input symbols : \") for i in range(0,symbols)]"
      ],
      "metadata": {
        "colab": {
          "base_uri": "https://localhost:8080/"
        },
        "id": "HETpUh-QPZI7",
        "outputId": "b57fb2f3-87b1-4c58-84b6-947b6f6ec024"
      },
      "execution_count": null,
      "outputs": [
        {
          "name": "stdout",
          "output_type": "stream",
          "text": [
            "Enter number of input symbols :2\n",
            "Enter input symbols : 0\n",
            "Enter input symbols : 1\n"
          ]
        }
      ]
    },
    {
      "cell_type": "code",
      "source": [
        "print('The input symbols are: ' + '.'.join(sym))\n",
        "last=input('Specify the final stage: ')"
      ],
      "metadata": {
        "colab": {
          "base_uri": "https://localhost:8080/"
        },
        "id": "I21M9aiaPbkJ",
        "outputId": "eeb229e6-f6a1-4402-8965-12179697de76"
      },
      "execution_count": null,
      "outputs": [
        {
          "name": "stdout",
          "output_type": "stream",
          "text": [
            "The input symbols are: 0.1\n",
            "Specify the final stage: d\n"
          ]
        }
      ]
    },
    {
      "cell_type": "code",
      "source": [
        "k=[0 for i in range(len(states))]\n",
        "for i in range(len(states)):\n",
        "  k[i]=[0 for j in range(len(sym))]\n",
        "  for j in range(len(sym)):\n",
        "    k[i][j]=input('From ' + states[i]+' if ' + str(sym[j])+ ' go: ')"
      ],
      "metadata": {
        "colab": {
          "base_uri": "https://localhost:8080/"
        },
        "id": "QIcctWi5Pezu",
        "outputId": "fa6deaa5-f1fa-4080-dbee-021da591b3a5"
      },
      "execution_count": null,
      "outputs": [
        {
          "name": "stdout",
          "output_type": "stream",
          "text": [
            "From a if 0 go: b\n",
            "From a if 1 go: c\n",
            "From b if 0 go: a\n",
            "From b if 1 go: c\n",
            "From c if 0 go: d\n",
            "From c if 1 go: d\n",
            "From d if 0 go: d\n",
            "From d if 1 go: d\n"
          ]
        }
      ]
    },
    {
      "cell_type": "code",
      "source": [
        "def trans(q,w):\n",
        "  lis.append(k[states.index(q)][sym.index(w)])\n",
        "  return k[states.index(q)][sym.index(w)]"
      ],
      "metadata": {
        "id": "cM_LatEAPiHp"
      },
      "execution_count": null,
      "outputs": []
    },
    {
      "cell_type": "code",
      "source": [
        "cont='y'\n",
        "while cont=='y' or cont=='Y':\n",
        "  lis=[]\n",
        "  start=states[0]\n",
        "  w=input(\"string to check: \")\n",
        "  for i in w:\n",
        "    start=trans(start,i)\n",
        "  if lis[-1] == last:\n",
        "    print(\"String Accepted (\"+states[0] + '-->' + '-->'.join(lis)+')')\n",
        "  else:\n",
        "    print('String not accepted...')\n",
        "  cont=input('Do you wish to continue? : ')"
      ],
      "metadata": {
        "colab": {
          "base_uri": "https://localhost:8080/"
        },
        "id": "FWu30bXhPk7b",
        "outputId": "7a847a0d-aeec-4b36-d640-9dd792f1c723"
      },
      "execution_count": null,
      "outputs": [
        {
          "name": "stdout",
          "output_type": "stream",
          "text": [
            "string to check: 00111\n",
            "String Accepted (a-->b-->a-->c-->d-->d)\n",
            "Do you wish to continue? : n\n"
          ]
        }
      ]
    }
  ]
}