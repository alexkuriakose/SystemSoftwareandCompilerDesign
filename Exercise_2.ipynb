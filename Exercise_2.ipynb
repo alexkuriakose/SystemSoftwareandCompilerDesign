{
  "nbformat": 4,
  "nbformat_minor": 0,
  "metadata": {
    "colab": {
      "name": "Exercise 2.ipynb",
      "provenance": [],
      "collapsed_sections": [],
      "authorship_tag": "ABX9TyOXT/cKjnd04Ikn7fgCrCAd",
      "include_colab_link": true
    },
    "kernelspec": {
      "name": "python3",
      "display_name": "Python 3"
    },
    "language_info": {
      "name": "python"
    }
  },
  "cells": [
    {
      "cell_type": "markdown",
      "metadata": {
        "id": "view-in-github",
        "colab_type": "text"
      },
      "source": [
        "<a href=\"https://colab.research.google.com/github/alexkuriakose/SystemSoftwareandCompilerDesign/blob/main/Exercise_2.ipynb\" target=\"_parent\"><img src=\"https://colab.research.google.com/assets/colab-badge.svg\" alt=\"Open In Colab\"/></a>"
      ]
    },
    {
      "cell_type": "code",
      "execution_count": null,
      "metadata": {
        "id": "gQZZ9iu7FB8s"
      },
      "outputs": [],
      "source": [
        "import re "
      ]
    },
    {
      "cell_type": "code",
      "source": [
        "keywords = ['if','else','while','int','float','double','for'];\n",
        "dataTypes = ['int','float','double','long int','long','long long int','long long']\n",
        "symbolTable = []"
      ],
      "metadata": {
        "id": "0J1VdKx7FSNd"
      },
      "execution_count": null,
      "outputs": []
    },
    {
      "cell_type": "code",
      "source": [
        "def isKeyword(token):\n",
        "    if(token in keywords):\n",
        "        return True\n",
        "    return False\n"
      ],
      "metadata": {
        "id": "9cazHWnuFTi6"
      },
      "execution_count": null,
      "outputs": []
    },
    {
      "cell_type": "code",
      "source": [
        "def isDatatype(token):\n",
        "    if(token in dataTypes):\n",
        "        return True\n",
        "    return False\n"
      ],
      "metadata": {
        "id": "qg3ENVTMFUvw"
      },
      "execution_count": null,
      "outputs": []
    },
    {
      "cell_type": "code",
      "source": [
        "def isIdentifier(token):\n",
        "    if(re.match(r\"[a-z][_0-9a-z]*$\",token)):\n",
        "        return True\n",
        "    return False\n"
      ],
      "metadata": {
        "id": "Ceg5qxZxFWKC"
      },
      "execution_count": null,
      "outputs": []
    },
    {
      "cell_type": "code",
      "source": [
        "def isOperator(token):\n",
        "    if(re.match(r\"[<>=+-/*]+\",i)):\n",
        "        return True\n",
        "    return False\n"
      ],
      "metadata": {
        "id": "3BYAvynQFXS7"
      },
      "execution_count": null,
      "outputs": []
    },
    {
      "cell_type": "code",
      "source": [
        "def isPunctuation(token):\n",
        "    if(re.match(r\"[;,'\\\".]+$\",i)):\n",
        "        return True\n",
        "    return False\n"
      ],
      "metadata": {
        "id": "qwxzLW7DFYfs"
      },
      "execution_count": null,
      "outputs": []
    },
    {
      "cell_type": "code",
      "source": [
        "def extractFunction(temp,tokens,i):\n",
        "    parameters = []\n",
        "    while(tokens[i]!=')'):\n",
        "        if(isDatatype(tokens[i])):\n",
        "            parameters.append(tokens[i])\n",
        "            i+=1 \n",
        "        elif(tokens[i]==','):\n",
        "            i+=1 \n",
        "        else:\n",
        "            print(tokens[i])\n",
        "            return False\n",
        "    temp.append('-')\n",
        "    temp.append(len(parameters))\n",
        "    temp.append(', '.join(i for i in parameters))\n",
        "    return temp\n"
      ],
      "metadata": {
        "id": "wsMpkYAaFbZV"
      },
      "execution_count": null,
      "outputs": []
    },
    {
      "cell_type": "code",
      "source": [
        "def addNewTableEntry(tokens):\n",
        "    i=0\n",
        "    temp = []\n",
        "    if(isKeyword(tokens[i]) and (isDatatype(tokens[i]))):\n",
        "        i+=1\n",
        "        # Edge case \n",
        "        if i >= len(tokens):\n",
        "            return False\n",
        "        \n",
        "        if(isIdentifier(tokens[i])):\n",
        "            i+=1\n",
        "            if(tokens[i]=='('):\n",
        "                # Adding Identifier\n",
        "                temp.append(tokens[i-1])\n",
        "                temp.append('-')\n",
        "                # Adding dataTypes\n",
        "                temp.append(tokens[i-2])\n",
        "                i+=1 \n",
        "                \n",
        "                temp = extractFunction(temp,tokens,i)\n",
        "                return temp\n",
        "            elif(tokens[i]==';' or tokens[i]==',' or tokens[i]=='='):\n",
        "                init_id = tokens[i-1]\n",
        "                init_data = tokens[i-2]\n",
        "                while(True):\n",
        "                    temp = []\n",
        "                    # Adding Identifier\n",
        "                    temp.append(init_id)\n",
        "                    # Adding dataTypes\n",
        "                    temp.append(init_data)\n",
        "                    \n",
        "                    if(tokens[i]==';'):\n",
        "                        temp.append('-')\n",
        "                        temp.append(0)\n",
        "                        temp.append('-')\n",
        "                        temp.append('-')\n",
        "                        return temp\n",
        "                    elif(tokens[i]=='='):\n",
        "                        temp.append('-')\n",
        "                        i+=1 \n",
        "                        if i >= len(tokens):\n",
        "                            return False\n",
        "                        temp.append(tokens[i])\n",
        "                        temp.append('-')\n",
        "                        temp.append('-')\n",
        "                        symbolTable.append(temp)\n",
        "                        i+=1 \n",
        "                        if(tokens[i]==';'):\n",
        "                            return True\n",
        "                        else:\n",
        "                            i+=1 \n",
        "                            \n",
        "                            if(isIdentifier(tokens[i])):\n",
        "                                init_id = tokens[i]\n",
        "                                i+=1\n",
        "                            else:\n",
        "                                return False\n",
        "                    elif(tokens[i]==','):\n",
        "                        temp.append('-')\n",
        "                        temp.append(0)\n",
        "                        temp.append('-')\n",
        "                        temp.append('-')\n",
        "                        symbolTable.append(temp)\n",
        "                        i+=1 \n",
        "                        \n",
        "                        if(isIdentifier(tokens[i])):\n",
        "                            init_id = tokens[i]\n",
        "                            i+=1\n",
        "                        else:\n",
        "                            return False\n",
        "                    else:\n",
        "                        return False\n",
        "            else:\n",
        "                return False\n",
        "                \n",
        "            \n",
        "        else:\n",
        "            return False\n",
        "    else:\n",
        "        return False\n"
      ],
      "metadata": {
        "id": "IUxyGNNeFfGE"
      },
      "execution_count": null,
      "outputs": []
    },
    {
      "cell_type": "code",
      "source": [
        "def printSymbolTable():\n",
        "    print(\"ID\\tData Type\\tReturn Type\\tInitial Value\\tNumber of parameters\\tType of parameters\")\n",
        "    for i in symbolTable:\n",
        "        for j in i:\n",
        "            print(j,end=\"\\t\")\n",
        "        print()\n",
        "\n"
      ],
      "metadata": {
        "id": "Zj-IXIcSFiAU"
      },
      "execution_count": null,
      "outputs": []
    },
    {
      "cell_type": "code",
      "source": [
        "idCnt = 0\n",
        "tokenCnt = 0\n"
      ],
      "metadata": {
        "id": "YpGVBJo1Fka0"
      },
      "execution_count": null,
      "outputs": []
    },
    {
      "cell_type": "code",
      "source": [
        "while True:\n",
        "    breakFlag = False\n",
        "    tokens = re.split('([^a-zA-Z0-9_])',input())\n",
        "    tokens = list(filter(lambda x: x != \" \" and x !='', tokens))\n",
        "\n",
        "    if(tokens[len(tokens)-1]==\"END\"):\n",
        "        breakFlag = True\n",
        "       \n",
        "    if breakFlag:\n",
        "        printSymbolTable()\n",
        "        break\n",
        "    \n",
        "    response = addNewTableEntry(tokens)\n",
        "    \n",
        "    if(type(response)==list):\n",
        "        symbolTable.append(response)\n",
        "    elif(response==False):\n",
        "        print(\"The given input doesn't come under the two types mentioned in the problem statement\")\n"
      ],
      "metadata": {
        "colab": {
          "base_uri": "https://localhost:8080/"
        },
        "id": "t2yoVgH8FlzV",
        "outputId": "f299a531-88c1-4c30-b1b1-75cc17138cd5"
      },
      "execution_count": null,
      "outputs": [
        {
          "output_type": "stream",
          "name": "stdout",
          "text": [
            "int a,b;\n",
            "int c=10,d;\n",
            "int add(double, double) ;\n",
            "END\n",
            "ID\tData Type\tReturn Type\tInitial Value\tNumber of parameters\tType of parameters\n",
            "a\tint\t-\t0\t-\t-\t\n",
            "b\tint\t-\t0\t-\t-\t\n",
            "c\tint\t-\t10\t-\t-\t\n",
            "d\tint\t-\t0\t-\t-\t\n",
            "add\t-\tint\t-\t2\tdouble, double\t\n"
          ]
        }
      ]
    }
  ]
}