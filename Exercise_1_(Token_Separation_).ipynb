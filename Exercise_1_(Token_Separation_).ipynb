{
  "nbformat": 4,
  "nbformat_minor": 0,
  "metadata": {
    "colab": {
      "name": "Exercise 1 (Token Separation ).ipynb",
      "provenance": [],
      "collapsed_sections": [],
      "authorship_tag": "ABX9TyN76s8V06qbDSskn3afyFig",
      "include_colab_link": true
    },
    "kernelspec": {
      "name": "python3",
      "display_name": "Python 3"
    },
    "language_info": {
      "name": "python"
    }
  },
  "cells": [
    {
      "cell_type": "markdown",
      "metadata": {
        "id": "view-in-github",
        "colab_type": "text"
      },
      "source": [
        "<a href=\"https://colab.research.google.com/github/alexkuriakose/SystemSoftwareandCompilerDesign/blob/main/Exercise_1_(Token_Separation_).ipynb\" target=\"_parent\"><img src=\"https://colab.research.google.com/assets/colab-badge.svg\" alt=\"Open In Colab\"/></a>"
      ]
    },
    {
      "cell_type": "code",
      "execution_count": null,
      "metadata": {
        "id": "lK2Uq7pq_2uv"
      },
      "outputs": [],
      "source": [
        "import re "
      ]
    },
    {
      "cell_type": "code",
      "source": [
        "keywords = ['if','else','while','int','float','double','for'];\n",
        "ic = 0\n",
        "tc = 0\n"
      ],
      "metadata": {
        "id": "WOZiiSik_5wC"
      },
      "execution_count": null,
      "outputs": []
    },
    {
      "cell_type": "code",
      "source": [
        "while True:\n",
        "    F = False\n",
        "    sentence = re.split('([^a-zA-Z0-9_])',input()) \n",
        "    \n",
        "    for i in sentence:\n",
        "        if i=='' or i==' ':\n",
        "            continue;\n",
        "        tc+=1\n",
        "        \n",
        "        if(i==\"end\"):\n",
        "            F = True\n",
        "            break\n",
        "        elif(i in keywords):\n",
        "           print('< '+i+' , Keyword >')\n",
        "        elif(re.match(r\"[;,'\\\".]+$\",i)):\n",
        "            print('< '+i+' , Punctuation >')\n",
        "        elif(re.match(r\"[<>=+-/*]+\",i)):\n",
        "            print('< '+i+' , Operator >')\n",
        "        elif(re.match(r\"[a-z][_0-9a-z]*$\",i)):\n",
        "            ic += 1\n",
        "            print('< '+i+' , Identifier id-'+str(ic)+' >')\n",
        "        elif(re.match(r\"[0-9]+$\",i)):\n",
        "            print('< '+i+' , Integer >')    \n",
        "    if F:\n",
        "       print(\"Total no of Tokens: \"+str(tc))\n",
        "       break\n"
      ],
      "metadata": {
        "colab": {
          "base_uri": "https://localhost:8080/"
        },
        "id": "MgoTosks_7Fn",
        "outputId": "4239fe72-51fc-4940-e6cd-0aeda643c87c"
      },
      "execution_count": null,
      "outputs": [
        {
          "output_type": "stream",
          "name": "stdout",
          "text": [
            "int age=10, marks=100;\n",
            "< int , Keyword >\n",
            "< age , Identifier id-1 >\n",
            "< = , Operator >\n",
            "< 10 , Integer >\n",
            "< , , Punctuation >\n",
            "< marks , Identifier id-2 >\n",
            "< = , Operator >\n",
            "< 100 , Integer >\n",
            "< ; , Punctuation >\n",
            "END\n",
            "end\n",
            "Total no of Tokens: 11\n"
          ]
        }
      ]
    }
  ]
}