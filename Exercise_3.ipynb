{
  "nbformat": 4,
  "nbformat_minor": 0,
  "metadata": {
    "colab": {
      "name": "Exercise 3.ipynb",
      "provenance": [],
      "collapsed_sections": [],
      "authorship_tag": "ABX9TyPzEq7p/Ef2q8BOZdF5EKMF",
      "include_colab_link": true
    },
    "kernelspec": {
      "name": "python3",
      "display_name": "Python 3"
    },
    "language_info": {
      "name": "python"
    }
  },
  "cells": [
    {
      "cell_type": "markdown",
      "metadata": {
        "id": "view-in-github",
        "colab_type": "text"
      },
      "source": [
        "<a href=\"https://colab.research.google.com/github/alexkuriakose/SystemSoftwareandCompilerDesign/blob/main/Exercise_3.ipynb\" target=\"_parent\"><img src=\"https://colab.research.google.com/assets/colab-badge.svg\" alt=\"Open In Colab\"/></a>"
      ]
    },
    {
      "cell_type": "code",
      "execution_count": null,
      "metadata": {
        "id": "-kSkNEMJBzK_"
      },
      "outputs": [],
      "source": [
        "with open('/content/input_ex3.txt') as f:\n",
        "  source = f.read()"
      ]
    },
    {
      "cell_type": "code",
      "source": [
        "lines=source.splitlines()\n",
        "var1=[]\n",
        "var2=[]"
      ],
      "metadata": {
        "id": "dC_94T23CwHn"
      },
      "execution_count": null,
      "outputs": []
    },
    {
      "cell_type": "code",
      "source": [
        "for line in lines:\n",
        "    if'#define' in line:\n",
        "        line=line.split(' ')\n",
        "        var=line[1][:line[1].find('(')]\n",
        "        var1.append(var)\n",
        "        var2.append(line[2])\n",
        "d=dict(zip(var1,var2))"
      ],
      "metadata": {
        "id": "t5zcMbkZCyBd"
      },
      "execution_count": null,
      "outputs": []
    },
    {
      "cell_type": "code",
      "source": [
        "for line in lines:\n",
        "    if'#define' not in line:\n",
        "        for name in fun_names:\n",
        "            if name in line:\n",
        "                line=line.replace(name,'').replace('(','').replace(')','')\n",
        "                line=line.replace(';','')\n",
        "                line=d[name].replace('X',line[0])+';'\n",
        "                line=line.replace('(','').replace(')','')\n",
        "        print(line)"
      ],
      "metadata": {
        "colab": {
          "base_uri": "https://localhost:8080/"
        },
        "id": "SSTQsM-hCzgO",
        "outputId": "2c694876-bf7e-42c6-e82b-908b49862cf3"
      },
      "execution_count": null,
      "outputs": [
        {
          "output_type": "stream",
          "name": "stdout",
          "text": [
            "#include<stdio.h>\n",
            "void main()\n",
            "{\n",
            "int a = 10;\n",
            "a=a/a;\n",
            "}\n"
          ]
        }
      ]
    }
  ]
}